{
 "cells": [
  {
   "cell_type": "code",
   "execution_count": 1,
   "id": "b0898a43-6c2b-4bdf-a65d-ded5b738ec9b",
   "metadata": {},
   "outputs": [
    {
     "name": "stdin",
     "output_type": "stream",
     "text": [
      " mojo\n"
     ]
    },
    {
     "name": "stdout",
     "output_type": "stream",
     "text": [
      "m\n",
      "om\n",
      "jom\n",
      "ojom\n",
      "reversed text: ojom\n",
      "no,the given string is not a palindrome\n"
     ]
    }
   ],
   "source": [
    "text=str(input())\n",
    "rev_text=\"\"\n",
    "for j in text:\n",
    "    rev_text=j+rev_text\n",
    "    print(rev_text)\n",
    "print(\"reversed text:\", rev_text)\n",
    "if text==rev_text:\n",
    "    print(\"yes,the given string is palindrome\")\n",
    "else:\n",
    "    print(\"no,the given string is not a palindrome\")"
   ]
  },
  {
   "cell_type": "code",
   "execution_count": null,
   "id": "1cdb3ac5-6880-40e6-bb62-43b316a8d9d5",
   "metadata": {},
   "outputs": [],
   "source": []
  }
 ],
 "metadata": {
  "kernelspec": {
   "display_name": "Python 3 (ipykernel)",
   "language": "python",
   "name": "python3"
  },
  "language_info": {
   "codemirror_mode": {
    "name": "ipython",
    "version": 3
   },
   "file_extension": ".py",
   "mimetype": "text/x-python",
   "name": "python",
   "nbconvert_exporter": "python",
   "pygments_lexer": "ipython3",
   "version": "3.12.4"
  }
 },
 "nbformat": 4,
 "nbformat_minor": 5
}
